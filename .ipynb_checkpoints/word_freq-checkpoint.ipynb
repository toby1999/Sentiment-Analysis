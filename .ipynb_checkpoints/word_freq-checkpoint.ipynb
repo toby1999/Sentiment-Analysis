{
 "cells": [
  {
   "cell_type": "code",
   "execution_count": null,
   "metadata": {},
   "outputs": [],
   "source": [
    "import operator\n",
    "import string\n",
    "from collections import Counter\n",
    "\n",
    "def wordFrequency(reviews):\n",
    "    '''\n",
    "    Iterates through the reviews and returns a dictionary of word frequencies\n",
    "    '''\n",
    "    wordfreq = {}   # Word frequencies stored here\n",
    "\n",
    "    for review in reviews:\n",
    "        for word in review:\n",
    "            if word not in wordfreq:\n",
    "                wordfreq[word] = 0\n",
    "            wordfreq[word] += 1\n",
    "\n",
    "    # Sort dictionary by key value\n",
    "    wordfreq = sorted(wordfreq.items(), key=operator.itemgetter(1), reverse = True)\n",
    "\n",
    "    return wordfreq\n",
    "\n",
    "def printFreq(wordfreq):\n",
    "    # Print (n) most common words\n",
    "    n = 0\n",
    "    for x in wordfreq:\n",
    "        print(n+1,\"\\t\", x[1], \"\\t\", x[0])\n",
    "        n += 1\n",
    "        if n == 25:\n",
    "            break\n",
    "\n",
    "def getWordFreq(dataFrame, n, stopwords=None):\n",
    "    # Split reviews into words & make lowercase\n",
    "    split_reviews = [word for review in dataFrame for word in review.lower().split()]\n",
    "    # Remove punctuation/special characters\n",
    "    split_reviews = [''.join(char for char in review if char not in string.punctuation)\n",
    "                    for review in split_reviews]\n",
    "    # Remove stopwords\n",
    "    if stopwords:\n",
    "        split_reviews = [word for word in split_reviews if word not in stopwords]\n",
    "    # Strip whitespace\n",
    "    split_reviews = [review for review in split_reviews if review]\n",
    "\n",
    "    wordFreq = Counter(split_reviews).most_common(n)\n",
    "\n",
    "    return wordFreq\n"
   ]
  }
 ],
 "metadata": {
  "kernelspec": {
   "display_name": "Python 3",
   "language": "python",
   "name": "python3"
  },
  "language_info": {
   "codemirror_mode": {
    "name": "ipython",
    "version": 3
   },
   "file_extension": ".py",
   "mimetype": "text/x-python",
   "name": "python",
   "nbconvert_exporter": "python",
   "pygments_lexer": "ipython3",
   "version": "3.7.3"
  }
 },
 "nbformat": 4,
 "nbformat_minor": 2
}
