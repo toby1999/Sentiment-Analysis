{
 "cells": [
  {
   "cell_type": "code",
   "execution_count": null,
   "metadata": {},
   "outputs": [],
   "source": [
    "from nltk.classify import NaiveBayesClassifier\n",
    "from nltk.corpus import movie_reviews\n",
    "import nltk.classify.util\n",
    "import pickle\n",
    "\n",
    "def extract_features(word_list):\n",
    "    # Returns a dictionary of words for the classifier\n",
    "    return dict([(word, True) for word in word_list])\n",
    "\n",
    "# Initialise the dataframe\n",
    "positive_fileids = movie_reviews.fileids('pos')\n",
    "negative_fileids = movie_reviews.fileids('neg')\n",
    "\n",
    "print(\"Number of positive reviews:\", len(positive_fileids))\n",
    "print(\"Number of negative reviews:\", len(negative_fileids))\n",
    "\n",
    "features_positive = [(extract_features(movie_reviews.words(fileids=[f])), 'Positive') for f in positive_fileids]\n",
    "features_negative = [(extract_features(movie_reviews.words(fileids=[f])), 'Negative') for f in negative_fileids]\n",
    "\n",
    "# Split the data into train and test (80/20)\n",
    "threshold_factor = 0.8\n",
    "threshold_positive = int(threshold_factor * len(features_positive))\n",
    "threshold_negative = int(threshold_factor * len(features_negative))\n",
    "\n",
    "# Extract train and test features\n",
    "features_train = features_positive[:threshold_positive] + features_negative[:threshold_negative]\n",
    "features_test  = features_positive[threshold_positive:] + features_negative[threshold_negative:]\n",
    "\n",
    "print(\"\\nNumber of training datapoints:\", len(features_train))\n",
    "print(\"Number of test datapoints:\", len(features_test))\n",
    "\n",
    "# Train Naive Bayes classifier\n",
    "classifier = NaiveBayesClassifier.train(features_train)\n",
    "\n",
    "print(\"\\nAccuracy of the classifier:\", nltk.classify.util.accuracy(classifier, features_test))\n",
    "\n",
    "print(\"\\nTop 10 most informative features:\")\n",
    "for item in classifier.most_informative_features()[:10]:\n",
    "    print(item[0])\n",
    "\n",
    "\n",
    "# pickle_out = open(\"classifier.pickle\", \"wb\")\n",
    "# pickle.dump(classifier, pickle_out)\n",
    "# pickle_out.close()\n",
    "\n",
    "'''\n",
    "while True:\n",
    "    print(\"\\nEnter string below (enter 'break' to exit)\")\n",
    "    string = str(input())\n",
    "    if string == \"break\": break\n",
    "    probdist = classifier.prob_classify(extract_features(string.split()))\n",
    "    pred_sentiment = probdist.max()\n",
    "    print(\"Predicted sentiment:\", pred_sentiment)\n",
    "    print(\"Probability:\", round(probdist.prob(pred_sentiment), 2),\"\\n\")\n",
    "'''\n"
   ]
  }
 ],
 "metadata": {
  "kernelspec": {
   "display_name": "Python 3",
   "language": "python",
   "name": "python3"
  },
  "language_info": {
   "codemirror_mode": {
    "name": "ipython",
    "version": 3
   },
   "file_extension": ".py",
   "mimetype": "text/x-python",
   "name": "python",
   "nbconvert_exporter": "python",
   "pygments_lexer": "ipython3",
   "version": "3.7.3"
  }
 },
 "nbformat": 4,
 "nbformat_minor": 2
}
